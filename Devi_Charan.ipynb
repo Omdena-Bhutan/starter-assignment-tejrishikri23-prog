{
  "nbformat": 4,
  "nbformat_minor": 0,
  "metadata": {
    "colab": {
      "provenance": [],
      "authorship_tag": "ABX9TyMPPPaHLOk8mgjjxqbW2ezt",
      "include_colab_link": true
    },
    "kernelspec": {
      "name": "python3",
      "display_name": "Python 3"
    },
    "language_info": {
      "name": "python"
    }
  },
  "cells": [
    {
      "cell_type": "markdown",
      "metadata": {
        "id": "view-in-github",
        "colab_type": "text"
      },
      "source": [
        "<a href=\"https://colab.research.google.com/github/Omdena-Bhutan/starter-assignment-tejrishikri23-prog/blob/main/Devi_Charan.ipynb\" target=\"_parent\"><img src=\"https://colab.research.google.com/assets/colab-badge.svg\" alt=\"Open In Colab\"/></a>"
      ]
    },
    {
      "cell_type": "code",
      "execution_count": 5,
      "metadata": {
        "colab": {
          "base_uri": "https://localhost:8080/"
        },
        "id": "DpljQ2wTt0iE",
        "outputId": "08fb2c44-1f33-4ba8-cda3-994f6b627a79"
      },
      "outputs": [
        {
          "output_type": "stream",
          "name": "stdout",
          "text": [
            "Kuzu Zangpola Bhutan\n"
          ]
        }
      ],
      "source": [
        "print(\"Kuzu Zangpola Bhutan\")"
      ]
    }
  ]
}